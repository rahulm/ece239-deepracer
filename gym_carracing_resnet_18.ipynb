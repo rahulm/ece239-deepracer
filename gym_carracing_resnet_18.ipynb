{
 "cells": [
  {
   "cell_type": "code",
   "execution_count": null,
   "metadata": {},
   "outputs": [],
   "source": [
    "%load_ext autoreload\n",
    "%autoreload 2"
   ]
  },
  {
   "cell_type": "code",
   "execution_count": null,
   "metadata": {},
   "outputs": [],
   "source": [
    "import os\n",
    "from ppo import PPO\n",
    "from config_utils import get_config\n",
    "from tqdm.notebook import tqdm\n",
    "import matplotlib.pyplot as plt\n",
    "import utils"
   ]
  },
  {
   "cell_type": "code",
   "execution_count": null,
   "metadata": {},
   "outputs": [],
   "source": [
    "from envs import env_carracing_simple\n",
    "env = env_carracing_simple.CarRacingSimple()"
   ]
  },
  {
   "cell_type": "code",
   "execution_count": null,
   "metadata": {},
   "outputs": [],
   "source": [
    "# config = get_config(\"configs/config-2020_06_02.json\")\n",
    "config = get_config(\"configs/config-2020_06_07-resnet18.json\")\n",
    "\n",
    "# config.actor_critic[\"actor\"][\"learning_rate\"] = 0.0001\n",
    "# config.actor_critic[\"critic\"][\"learning_rate\"] = 0.0001\n",
    "print(config)\n",
    "\n",
    "num_epochs = 1500\n",
    "# num_epochs = 100\n",
    "# num_epochs = 2\n",
    "minibatch_size = 1\n",
    "\n",
    "if config.has_training:\n",
    "    num_epochs = config.training.get(\"num_epochs\", num_epochs)\n",
    "    minibatch_size = config.training.get(\"minibatch_size\", minibatch_size)"
   ]
  },
  {
   "cell_type": "code",
   "execution_count": null,
   "metadata": {},
   "outputs": [],
   "source": [
    "checkpoint_interval = 10\n",
    "experiment_dir = \"experiments/2020_06_07-01-resnet18\"\n",
    "\n",
    "os.makedirs(experiment_dir, exist_ok=True)"
   ]
  },
  {
   "cell_type": "code",
   "execution_count": null,
   "metadata": {},
   "outputs": [],
   "source": [
    "from actor_critics import carracing_resnet_18_ac as ac\n",
    "actor = ac.Actor(env)\n",
    "critic = ac.Critic(env)\n",
    "\n",
    "ppo = PPO(\n",
    "    env,\n",
    "    config=config,\n",
    "    actor=actor,\n",
    "    critic=critic,\n",
    "    no_cuda=False\n",
    ")"
   ]
  },
  {
   "cell_type": "code",
   "execution_count": null,
   "metadata": {
    "tags": [
     "outputPrepend",
     "outputPrepend",
     "outputPrepend",
     "outputPrepend",
     "outputPrepend",
     "outputPrepend",
     "outputPrepend",
     "outputPrepend",
     "outputPrepend",
     "outputPrepend",
     "outputPrepend",
     "outputPrepend",
     "outputPrepend",
     "outputPrepend",
     "outputPrepend",
     "outputPrepend"
    ]
   },
   "outputs": [],
   "source": [
    "loss_vals = []\n",
    "pbar = tqdm(range(num_epochs))\n",
    "for i in pbar:\n",
    "    step_loss_vals = ppo.step()\n",
    "    loss_vals.append(sum(step_loss_vals) / len(step_loss_vals))\n",
    "    pbar.set_description(\"Loss = {:.6f}\".format(loss_vals[-1]))\n",
    "    \n",
    "    if i%checkpoint_interval == 0:\n",
    "        utils.save_ppo_checkpoint(\n",
    "            exp_dir = experiment_dir,\n",
    "            epoch = i,\n",
    "            loss = loss_vals[-1],\n",
    "            ppo = ppo,\n",
    "        )"
   ]
  },
  {
   "cell_type": "code",
   "execution_count": null,
   "metadata": {},
   "outputs": [],
   "source": [
    "plt.plot(loss_vals)\n",
    "plt.xlabel(\"step\")\n",
    "plt.ylabel(\"loss\")\n",
    "plt.title(\"Training Loss Curve\")\n",
    "plt.show()"
   ]
  },
  {
   "cell_type": "code",
   "execution_count": null,
   "metadata": {},
   "outputs": [],
   "source": [
    "import torch\n",
    "from torch.autograd import Variable"
   ]
  },
  {
   "cell_type": "code",
   "execution_count": null,
   "metadata": {},
   "outputs": [],
   "source": [
    "#env_new = wrappers.Monitor(env, './video/', force = True)\n",
    "times = 0\n",
    "env_new = env\n",
    "observation = env_new.reset()\n",
    "# observation = Variable(torch.from_numpy(observation), requires_grad=False).to(ppo.torch_device)\n",
    "observation = torch.unsqueeze(\n",
    "    torch.from_numpy(observation.copy()),\n",
    "    0\n",
    ").to(ppo.torch_device)\n",
    "for _ in range(100):\n",
    "    env_new.render()\n",
    "    action = torch.argmax(ppo.pi(observation.float())) \n",
    "    observation, reward, done, info = env_new.step(action.cpu().detach().numpy())\n",
    "    # observation = Variable(torch.from_numpy(observation), requires_grad=False).to(ppo.torch_device)\n",
    "    observation = torch.unsqueeze(\n",
    "        torch.from_numpy(observation.copy()),\n",
    "        0\n",
    "    ).to(ppo.torch_device)\n",
    "    if not done:\n",
    "        times += 1\n",
    "        \n",
    "print(times)\n",
    "env_new.close()"
   ]
  },
  {
   "cell_type": "code",
   "execution_count": null,
   "metadata": {},
   "outputs": [],
   "source": []
  }
 ],
 "metadata": {
  "kernelspec": {
   "display_name": "Python 3",
   "language": "python",
   "name": "python3"
  },
  "language_info": {
   "codemirror_mode": {
    "name": "ipython",
    "version": 3
   },
   "file_extension": ".py",
   "mimetype": "text/x-python",
   "name": "python",
   "nbconvert_exporter": "python",
   "pygments_lexer": "ipython3",
   "version": "3.8.3-final"
  }
 },
 "nbformat": 4,
 "nbformat_minor": 4
}