{
 "cells": [
  {
   "cell_type": "code",
   "execution_count": 1,
   "metadata": {},
   "outputs": [
    {
     "output_type": "execute_result",
     "data": {
      "text/plain": "'\\nobservation = env.reset()\\nfor _ in range(100):\\n  env.render()\\n  action = env.action_space.sample() # your agent here (this takes random actions)\\n  observation, reward, done, info = env.step(action)\\n\\n  if done:\\n        break\\n    #observation = env.reset()\\nenv.close()\\n'"
     },
     "metadata": {},
     "execution_count": 1
    }
   ],
   "source": [
    "import gym\n",
    "from gym import wrappers\n",
    "env = gym.make(\"CartPole-v1\")\n",
    "\"\"\"\n",
    "observation = env.reset()\n",
    "for _ in range(100):\n",
    "  env.render()\n",
    "  action = env.action_space.sample() # your agent here (this takes random actions)\n",
    "  observation, reward, done, info = env.step(action)\n",
    "\n",
    "  if done:\n",
    "        break\n",
    "    #observation = env.reset()\n",
    "env.close()\n",
    "\"\"\""
   ]
  },
  {
   "cell_type": "code",
   "execution_count": 2,
   "metadata": {},
   "outputs": [],
   "source": [
    "from ppo import PPO\n",
    "from config_utils import get_config\n",
    "from tqdm.notebook import tqdm"
   ]
  },
  {
   "cell_type": "code",
   "execution_count": 3,
   "metadata": {},
   "outputs": [
    {
     "output_type": "stream",
     "name": "stdout",
     "text": "{'ppo_hyperparameters': {'epsilon': 0.2, 'discount_factor': 0.9, 'actor_critic': {'actor': {'learning_rate': 0.005}, 'critic': {'learning_rate': 0.005, 'alpha': 0.75}}}}\n"
    }
   ],
   "source": [
    "config = get_config(\"configs/config-2020_06_02.json\")\n",
    "# config = get_config(\"configs/config-default_mujoco.json\")\n",
    "print(config)\n",
    "\n",
    "# num_epochs = 1200\n",
    "num_epochs = 1\n",
    "minibatch_size = 1\n",
    "\n",
    "if config.has_training:\n",
    "    num_epochs = config.training.get(\"num_epochs\", num_epochs)\n",
    "    minibatch_size = config.training.get(\"minibatch_size\", minibatch_size)"
   ]
  },
  {
   "cell_type": "code",
   "execution_count": 4,
   "metadata": {},
   "outputs": [],
   "source": [
    "# ppo = PPO(env, 4, env.action_space.n, 0.2, 0.90, 0.75)\n",
    "ppo = PPO(env, config)"
   ]
  },
  {
   "cell_type": "code",
   "execution_count": 5,
   "metadata": {},
   "outputs": [
    {
     "output_type": "display_data",
     "data": {
      "text/plain": "HBox(children=(FloatProgress(value=0.0, description='epoch', max=1.0, style=ProgressStyle(description_width='i…",
      "application/vnd.jupyter.widget-view+json": {
       "version_major": 2,
       "version_minor": 0,
       "model_id": "e9f91236f3f94269bdef429d0683b15a"
      }
     },
     "metadata": {}
    },
    {
     "output_type": "display_data",
     "data": {
      "text/plain": "HBox(children=(FloatProgress(value=0.0, description='minibatch', max=1.0, style=ProgressStyle(description_widt…",
      "application/vnd.jupyter.widget-view+json": {
       "version_major": 2,
       "version_minor": 0,
       "model_id": "5ba5f96477be4749bc225460b1c365ad"
      }
     },
     "metadata": {}
    },
    {
     "output_type": "stream",
     "name": "stdout",
     "text": "\n\n"
    }
   ],
   "source": [
    "for _ in tqdm(range(num_epochs), desc=\"epoch\"):\n",
    "    for _ in tqdm(range(minibatch_size), desc=\"minibatch\"):\n",
    "        ppo.step()"
   ]
  },
  {
   "cell_type": "code",
   "execution_count": 6,
   "metadata": {},
   "outputs": [],
   "source": [
    "import torch\n",
    "from torch.autograd import Variable"
   ]
  },
  {
   "cell_type": "code",
   "execution_count": 7,
   "metadata": {},
   "outputs": [
    {
     "output_type": "stream",
     "name": "stdout",
     "text": "19\n"
    }
   ],
   "source": [
    "#env_new = wrappers.Monitor(env, './video/', force = True)\n",
    "times = 0\n",
    "env_new = env\n",
    "observation = env_new.reset()\n",
    "observation = Variable(torch.from_numpy(observation), requires_grad=False).detach()\n",
    "for _ in range(100):\n",
    "# for _ in range(1):\n",
    "    env_new.render()\n",
    "    action = torch.argmax(ppo.pi(observation.float())) \n",
    "    observation, reward, done, info = env_new.step(action.detach().numpy())\n",
    "    observation = Variable(torch.from_numpy(observation), requires_grad=False).detach()\n",
    "    if not done:\n",
    "        times += 1\n",
    "        \n",
    "print(times)\n",
    "env_new.close()"
   ]
  }
 ],
 "metadata": {
  "kernelspec": {
   "display_name": "Python 3",
   "language": "python",
   "name": "python3"
  },
  "language_info": {
   "codemirror_mode": {
    "name": "ipython",
    "version": 3
   },
   "file_extension": ".py",
   "mimetype": "text/x-python",
   "name": "python",
   "nbconvert_exporter": "python",
   "pygments_lexer": "ipython3",
   "version": "3.8.3-final"
  }
 },
 "nbformat": 4,
 "nbformat_minor": 4
}