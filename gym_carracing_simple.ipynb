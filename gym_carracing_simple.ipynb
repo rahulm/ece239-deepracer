{
 "cells": [
  {
   "cell_type": "code",
   "execution_count": null,
   "metadata": {},
   "outputs": [],
   "source": [
    "%load_ext autoreload\n",
    "%autoreload 2"
   ]
  },
  {
   "cell_type": "code",
   "execution_count": null,
   "metadata": {},
   "outputs": [],
   "source": [
    "from ppo import PPO\n",
    "from config_utils import get_config\n",
    "from tqdm.notebook import tqdm\n",
    "import matplotlib.pyplot as plt"
   ]
  },
  {
   "cell_type": "code",
   "execution_count": null,
   "metadata": {},
   "outputs": [],
   "source": [
    "# import gym\n",
    "# env = gym.make(\"CartPole-v1\")\n",
    "# env = gym.make(\"CarRacing-v0\")\n",
    "\"\"\"\n",
    "observation = env.reset()\n",
    "for _ in range(100):\n",
    "  env.render()\n",
    "  action = env.action_space.sample() # your agent here (this takes random actions)\n",
    "  observation, reward, done, info = env.step(action)\n",
    "\n",
    "  if done:\n",
    "        break\n",
    "    #observation = env.reset()\n",
    "env.close()\n",
    "\"\"\""
   ]
  },
  {
   "cell_type": "code",
   "execution_count": null,
   "metadata": {},
   "outputs": [],
   "source": [
    "from envs import env_carracing_simple\n",
    "env = env_carracing_simple.CarRacingSimple()"
   ]
  },
  {
   "cell_type": "code",
   "execution_count": null,
   "metadata": {},
   "outputs": [],
   "source": [
    "print(env.action_space)\n",
    "print(env.action_space.shape)\n",
    "print(env.observation_space)\n",
    "print(env.observation_space.shape)\n",
    "print(type(env.observation_space))"
   ]
  },
  {
   "cell_type": "code",
   "execution_count": null,
   "metadata": {},
   "outputs": [],
   "source": [
    "from actor_critics import ac_utils\n",
    "print(ac_utils.get_generic_space_size(env.action_space))"
   ]
  },
  {
   "cell_type": "code",
   "execution_count": null,
   "metadata": {},
   "outputs": [],
   "source": [
    "config = get_config(\"configs/config-2020_06_02.json\")\n",
    "# config = get_config(\"configs/config-default_mujoco.json\")\n",
    "\n",
    "config.actor_critic[\"actor\"][\"learning_rate\"] = 0.00005\n",
    "config.actor_critic[\"critic\"][\"learning_rate\"] = 0.00005\n",
    "print(config)\n",
    "\n",
    "# num_epochs = 1200\n",
    "# num_epochs = 100\n",
    "num_epochs = 2\n",
    "minibatch_size = 1\n",
    "\n",
    "if config.has_training:\n",
    "    num_epochs = config.training.get(\"num_epochs\", num_epochs)\n",
    "    minibatch_size = config.training.get(\"minibatch_size\", minibatch_size)"
   ]
  },
  {
   "cell_type": "code",
   "execution_count": null,
   "metadata": {},
   "outputs": [],
   "source": [
    "from actor_critics import carracing_fc_ac\n",
    "actor = carracing_fc_ac.Actor(env)\n",
    "critic = carracing_fc_ac.Critic(env)\n",
    "\n",
    "ppo = PPO(\n",
    "    env,\n",
    "    config=config,\n",
    "    actor=actor,\n",
    "    critic=critic,\n",
    "    no_cuda=True\n",
    ")"
   ]
  },
  {
   "cell_type": "code",
   "execution_count": null,
   "metadata": {
    "tags": [
     "outputPrepend",
     "outputPrepend",
     "outputPrepend",
     "outputPrepend",
     "outputPrepend",
     "outputPrepend",
     "outputPrepend",
     "outputPrepend",
     "outputPrepend",
     "outputPrepend",
     "outputPrepend",
     "outputPrepend",
     "outputPrepend",
     "outputPrepend",
     "outputPrepend",
     "outputPrepend",
     "outputPrepend",
     "outputPrepend",
     "outputPrepend",
     "outputPrepend",
     "outputPrepend"
    ]
   },
   "outputs": [],
   "source": [
    "loss_vals = []\n",
    "pbar = tqdm(range(num_epochs))\n",
    "for _ in pbar:\n",
    "    #for _ in tqdm(range(minibatch_size), desc=\"minibatch\"):\n",
    "    step_loss_vals = ppo.step()\n",
    "    loss_vals.append(sum(step_loss_vals) / len(step_loss_vals))\n",
    "    tqdm.write(str(step_loss_vals))\n",
    "    pbar.set_description(\"Loss = {:.6f}\".format(loss_vals[-1]))"
   ]
  },
  {
   "cell_type": "code",
   "execution_count": null,
   "metadata": {},
   "outputs": [],
   "source": [
    "plt.plot(loss_vals)\n",
    "plt.xlabel(\"step\")\n",
    "plt.ylabel(\"loss\")\n",
    "plt.title(\"Training Loss Curve\")\n",
    "plt.show()"
   ]
  },
  {
   "cell_type": "code",
   "execution_count": null,
   "metadata": {},
   "outputs": [],
   "source": [
    "import torch\n",
    "from torch.autograd import Variable"
   ]
  },
  {
   "cell_type": "code",
   "execution_count": null,
   "metadata": {},
   "outputs": [],
   "source": [
    "#env_new = wrappers.Monitor(env, './video/', force = True)\n",
    "times = 0\n",
    "env_new = env\n",
    "observation = env_new.reset()\n",
    "observation = Variable(torch.from_numpy(observation), requires_grad=False).to(ppo.torch_device)\n",
    "for _ in range(100):\n",
    "    env_new.render()\n",
    "    action = torch.argmax(ppo.pi(observation.float())) \n",
    "    observation, reward, done, info = env_new.step(action.cpu().numpy())\n",
    "    observation = Variable(torch.from_numpy(observation), requires_grad=False).to(ppo.torch_device)\n",
    "    if not done:\n",
    "        times += 1\n",
    "        \n",
    "print(times)\n",
    "env_new.close()"
   ]
  },
  {
   "cell_type": "code",
   "execution_count": null,
   "metadata": {},
   "outputs": [],
   "source": []
  }
 ],
 "metadata": {
  "kernelspec": {
   "display_name": "Python 3",
   "language": "python",
   "name": "python3"
  },
  "language_info": {
   "codemirror_mode": {
    "name": "ipython",
    "version": 3
   },
   "file_extension": ".py",
   "mimetype": "text/x-python",
   "name": "python",
   "nbconvert_exporter": "python",
   "pygments_lexer": "ipython3",
   "version": "3.8.3-final"
  }
 },
 "nbformat": 4,
 "nbformat_minor": 4
}